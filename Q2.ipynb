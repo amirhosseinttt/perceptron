{
 "cells": [
  {
   "cell_type": "code",
   "execution_count": 1,
   "id": "initial_id",
   "metadata": {
    "collapsed": true,
    "ExecuteTime": {
     "end_time": "2023-10-16T11:43:21.487970909Z",
     "start_time": "2023-10-16T11:43:20.406445063Z"
    }
   },
   "outputs": [],
   "source": [
    "from Models import Perceptron\n",
    "import pandas as pd\n",
    "import numpy as np\n",
    "import matplotlib.pyplot as plt"
   ]
  },
  {
   "cell_type": "code",
   "execution_count": 2,
   "outputs": [
    {
     "data": {
      "text/plain": "            0         1  y\n0    8.767747  3.995108  0\n1    5.938750  5.387562  0\n2    8.605291 -2.652032  1\n3    7.488204  5.810372  0\n4    7.653939  4.499167  0\n..        ...       ... ..\n995  7.211895  7.904023  0\n996  8.974970 -3.063078  1\n997  7.324660  6.607004  0\n998  6.889562  4.775597  0\n999  9.439694 -2.025759  1\n\n[1000 rows x 3 columns]",
      "text/html": "<div>\n<style scoped>\n    .dataframe tbody tr th:only-of-type {\n        vertical-align: middle;\n    }\n\n    .dataframe tbody tr th {\n        vertical-align: top;\n    }\n\n    .dataframe thead th {\n        text-align: right;\n    }\n</style>\n<table border=\"1\" class=\"dataframe\">\n  <thead>\n    <tr style=\"text-align: right;\">\n      <th></th>\n      <th>0</th>\n      <th>1</th>\n      <th>y</th>\n    </tr>\n  </thead>\n  <tbody>\n    <tr>\n      <th>0</th>\n      <td>8.767747</td>\n      <td>3.995108</td>\n      <td>0</td>\n    </tr>\n    <tr>\n      <th>1</th>\n      <td>5.938750</td>\n      <td>5.387562</td>\n      <td>0</td>\n    </tr>\n    <tr>\n      <th>2</th>\n      <td>8.605291</td>\n      <td>-2.652032</td>\n      <td>1</td>\n    </tr>\n    <tr>\n      <th>3</th>\n      <td>7.488204</td>\n      <td>5.810372</td>\n      <td>0</td>\n    </tr>\n    <tr>\n      <th>4</th>\n      <td>7.653939</td>\n      <td>4.499167</td>\n      <td>0</td>\n    </tr>\n    <tr>\n      <th>...</th>\n      <td>...</td>\n      <td>...</td>\n      <td>...</td>\n    </tr>\n    <tr>\n      <th>995</th>\n      <td>7.211895</td>\n      <td>7.904023</td>\n      <td>0</td>\n    </tr>\n    <tr>\n      <th>996</th>\n      <td>8.974970</td>\n      <td>-3.063078</td>\n      <td>1</td>\n    </tr>\n    <tr>\n      <th>997</th>\n      <td>7.324660</td>\n      <td>6.607004</td>\n      <td>0</td>\n    </tr>\n    <tr>\n      <th>998</th>\n      <td>6.889562</td>\n      <td>4.775597</td>\n      <td>0</td>\n    </tr>\n    <tr>\n      <th>999</th>\n      <td>9.439694</td>\n      <td>-2.025759</td>\n      <td>1</td>\n    </tr>\n  </tbody>\n</table>\n<p>1000 rows × 3 columns</p>\n</div>"
     },
     "execution_count": 2,
     "metadata": {},
     "output_type": "execute_result"
    }
   ],
   "source": [
    "df = pd.read_csv('linear.csv')\n",
    "df"
   ],
   "metadata": {
    "collapsed": false,
    "ExecuteTime": {
     "end_time": "2023-10-16T11:43:21.527203683Z",
     "start_time": "2023-10-16T11:43:21.492068021Z"
    }
   },
   "id": "157786962bde9ed5"
  },
  {
   "cell_type": "code",
   "execution_count": 3,
   "outputs": [
    {
     "data": {
      "text/plain": "(            0         1  y\n 800  8.990995  6.122723  0\n 961  6.752730  7.207713  0\n 660  9.870534 -1.979730  1\n 135  8.902341 -3.633381  1\n 98   9.382885 -2.868392  1\n ..        ...       ... ..\n 407  8.882244 -1.188808  1\n 857  7.626716  6.287716  0\n 93   6.271026  6.513193  0\n 752  8.235080 -2.250264  1\n 749  8.523504  5.415767  0\n \n [800 rows x 3 columns],\n              0         1  y\n 3     7.488204  5.810372  0\n 20    9.032440 -3.525806  1\n 21    9.010063 -1.968475  1\n 28    6.965171  5.683771  0\n 29    7.463745  6.598897  0\n ..         ...       ... ..\n 979  10.516091 -3.187383  1\n 988   7.950300  6.855291  0\n 993   7.098063 -2.228558  1\n 994   6.432679  6.702633  0\n 999   9.439694 -2.025759  1\n \n [200 rows x 3 columns])"
     },
     "execution_count": 3,
     "metadata": {},
     "output_type": "execute_result"
    }
   ],
   "source": [
    "train_df = df.sample(frac=0.8)      # also shuffles\n",
    "test_df = df.drop(train_df.index)   # also shuffles\n",
    "\n",
    "\n",
    "train_df, test_df"
   ],
   "metadata": {
    "collapsed": false,
    "ExecuteTime": {
     "end_time": "2023-10-16T11:43:21.582934154Z",
     "start_time": "2023-10-16T11:43:21.518839222Z"
    }
   },
   "id": "55e77a66b6b70584"
  },
  {
   "cell_type": "code",
   "execution_count": 4,
   "outputs": [],
   "source": [
    "train_inputs = train_df[['0', '1']].values\n",
    "train_labels = train_df['y'].values\n",
    "\n",
    "test_inputs = test_df[['0', '1']].values\n",
    "test_labels = test_df['y'].values"
   ],
   "metadata": {
    "collapsed": false,
    "ExecuteTime": {
     "end_time": "2023-10-16T11:43:21.614161150Z",
     "start_time": "2023-10-16T11:43:21.556943757Z"
    }
   },
   "id": "f0773eca18a25d66"
  },
  {
   "cell_type": "code",
   "execution_count": 5,
   "outputs": [],
   "source": [
    "model = Perceptron(input_size=2)\n",
    "\n"
   ],
   "metadata": {
    "collapsed": false,
    "ExecuteTime": {
     "end_time": "2023-10-16T11:43:21.615769328Z",
     "start_time": "2023-10-16T11:43:21.565908813Z"
    }
   },
   "id": "4a73f5dde18a34bd"
  },
  {
   "cell_type": "code",
   "execution_count": 6,
   "outputs": [
    {
     "name": "stdout",
     "output_type": "stream",
     "text": [
      "Epoch: 0, Error: 2\n",
      "Epoch: 1, Error: 0\n",
      "Epoch: 2, Error: 0\n",
      "Epoch: 3, Error: 0\n",
      "Epoch: 4, Error: 0\n",
      "Epoch: 5, Error: 0\n",
      "Epoch: 6, Error: 0\n",
      "Epoch: 7, Error: 0\n",
      "Epoch: 8, Error: 0\n",
      "Epoch: 9, Error: 0\n"
     ]
    }
   ],
   "source": [
    "model.train(train_inputs, train_labels, epochs=10, learning_rate=0.00001)"
   ],
   "metadata": {
    "collapsed": false,
    "ExecuteTime": {
     "end_time": "2023-10-16T11:43:21.808945126Z",
     "start_time": "2023-10-16T11:43:21.578212282Z"
    }
   },
   "id": "2891394ef3dc6ba1"
  },
  {
   "cell_type": "code",
   "execution_count": 7,
   "outputs": [
    {
     "name": "stdout",
     "output_type": "stream",
     "text": [
      "inputs: [7.48820365 5.81037217], label: 0, prediction: 0\n",
      "inputs: [ 9.0324399  -3.52580642], label: 1, prediction: 1\n",
      "inputs: [ 9.01006325 -1.96847522], label: 1, prediction: 1\n",
      "inputs: [6.96517103 5.68377112], label: 0, prediction: 0\n",
      "inputs: [7.46374505 6.59889723], label: 0, prediction: 0\n",
      "inputs: [ 9.37009604 -2.80919024], label: 1, prediction: 1\n",
      "inputs: [ 9.94874022 -2.09841792], label: 1, prediction: 1\n",
      "inputs: [ 7.05575794 -1.45470685], label: 1, prediction: 1\n",
      "inputs: [ 9.06586838 -2.93301496], label: 1, prediction: 1\n",
      "inputs: [7.767188   6.33018699], label: 0, prediction: 0\n",
      "inputs: [6.06358436 4.46901582], label: 0, prediction: 0\n",
      "inputs: [ 9.95373972 -1.18337311], label: 1, prediction: 1\n",
      "inputs: [ 8.41101022 -1.99728383], label: 1, prediction: 1\n",
      "inputs: [ 9.06394732 -1.68931385], label: 1, prediction: 1\n",
      "inputs: [ 9.76704715 -1.94801196], label: 1, prediction: 1\n",
      "inputs: [6.98423949 6.66412159], label: 0, prediction: 0\n",
      "inputs: [6.68558175 5.49001251], label: 0, prediction: 0\n",
      "inputs: [5.49809334 5.73451194], label: 0, prediction: 0\n",
      "inputs: [4.41750922 5.79290973], label: 0, prediction: 0\n",
      "inputs: [8.85844676 0.33599054], label: 1, prediction: 1\n",
      "inputs: [ 8.78566216 -0.74534143], label: 1, prediction: 1\n",
      "inputs: [10.29268008 -2.55393165], label: 1, prediction: 1\n",
      "inputs: [ 8.28685214 -1.80486676], label: 1, prediction: 1\n",
      "inputs: [ 8.36714503 -3.33183867], label: 1, prediction: 1\n",
      "inputs: [5.04991948 3.50458696], label: 0, prediction: 0\n",
      "inputs: [ 7.61253765 -2.32259993], label: 1, prediction: 1\n",
      "inputs: [ 9.32262982 -1.3809818 ], label: 1, prediction: 1\n",
      "inputs: [ 8.33588276 -1.57576578], label: 1, prediction: 1\n",
      "inputs: [7.57219744 3.58626341], label: 0, prediction: 0\n",
      "inputs: [7.34220875 6.40406856], label: 0, prediction: 0\n",
      "inputs: [ 9.39418839 -1.02247318], label: 1, prediction: 1\n",
      "inputs: [6.60033924 5.06383635], label: 0, prediction: 0\n",
      "inputs: [ 7.95157052 -2.94227   ], label: 1, prediction: 1\n",
      "inputs: [ 7.83591385 -2.46630991], label: 1, prediction: 1\n",
      "inputs: [6.92431747 4.51496016], label: 0, prediction: 0\n",
      "inputs: [ 8.64344876 -2.64507522], label: 1, prediction: 1\n",
      "inputs: [6.8433607  5.21758407], label: 0, prediction: 0\n",
      "inputs: [ 7.26640569 -3.0317514 ], label: 1, prediction: 1\n",
      "inputs: [7.5147718  5.01470449], label: 0, prediction: 0\n",
      "inputs: [8.61877122 5.96144393], label: 0, prediction: 0\n",
      "inputs: [6.15262754 5.17134406], label: 0, prediction: 0\n",
      "inputs: [6.67797618 5.76327081], label: 0, prediction: 0\n",
      "inputs: [5.81762355 5.64493044], label: 0, prediction: 0\n",
      "inputs: [ 8.91424976 -1.71817079], label: 1, prediction: 1\n",
      "inputs: [ 6.58404461 -2.58955321], label: 1, prediction: 1\n",
      "inputs: [6.71193419 4.46924126], label: 0, prediction: 0\n",
      "inputs: [ 7.25253738 -4.16686673], label: 1, prediction: 1\n",
      "inputs: [ 8.17953333 -3.77786041], label: 1, prediction: 1\n",
      "inputs: [8.37958428 5.4604455 ], label: 0, prediction: 0\n",
      "inputs: [ 7.96944304 -2.26573702], label: 1, prediction: 1\n",
      "inputs: [ 7.99591248 -1.55193248], label: 1, prediction: 1\n",
      "inputs: [ 9.13576656 -1.74051599], label: 1, prediction: 1\n",
      "inputs: [6.86390259 6.3280579 ], label: 0, prediction: 0\n",
      "inputs: [11.29578337 -1.53815539], label: 1, prediction: 1\n",
      "inputs: [10.83845939 -1.38931458], label: 1, prediction: 1\n",
      "inputs: [6.59175101 3.41407655], label: 0, prediction: 0\n",
      "inputs: [ 7.31874007 -1.59875584], label: 1, prediction: 1\n",
      "inputs: [ 7.8380281  -1.66524142], label: 1, prediction: 1\n",
      "inputs: [6.52000297 5.21074033], label: 0, prediction: 0\n",
      "inputs: [6.18377229 5.81120933], label: 0, prediction: 0\n",
      "inputs: [7.78557565 5.14935997], label: 0, prediction: 0\n",
      "inputs: [ 7.55891845 -1.41143403], label: 1, prediction: 1\n",
      "inputs: [5.93674861 6.46552996], label: 0, prediction: 0\n",
      "inputs: [7.6077882 5.1559294], label: 0, prediction: 0\n",
      "inputs: [7.48626673 4.90517738], label: 0, prediction: 0\n",
      "inputs: [5.35454645 5.80591233], label: 0, prediction: 0\n",
      "inputs: [5.9087057  6.53155648], label: 0, prediction: 0\n",
      "inputs: [8.48492919 6.36111697], label: 0, prediction: 0\n",
      "inputs: [ 6.50247827 -1.4236981 ], label: 1, prediction: 1\n",
      "inputs: [ 7.97542643 -1.52719134], label: 1, prediction: 1\n",
      "inputs: [7.13385711 5.42852158], label: 0, prediction: 0\n",
      "inputs: [ 7.4217166  -1.07277647], label: 1, prediction: 1\n",
      "inputs: [ 7.89036516 -0.94819675], label: 1, prediction: 1\n",
      "inputs: [5.2962842  4.46466132], label: 0, prediction: 0\n",
      "inputs: [ 8.68837438 -1.05630912], label: 1, prediction: 1\n",
      "inputs: [ 8.61677816 -2.47987851], label: 1, prediction: 1\n",
      "inputs: [6.309915   3.86989733], label: 0, prediction: 0\n",
      "inputs: [8.22576857 5.0883247 ], label: 0, prediction: 0\n",
      "inputs: [6.38614002 5.63732103], label: 0, prediction: 0\n",
      "inputs: [5.25757042 3.64279516], label: 0, prediction: 0\n",
      "inputs: [8.32721426 4.45545093], label: 0, prediction: 0\n",
      "inputs: [7.48189997 4.58251113], label: 0, prediction: 0\n",
      "inputs: [5.68113048 5.58778202], label: 0, prediction: 0\n",
      "inputs: [7.5450764  5.14648778], label: 0, prediction: 0\n",
      "inputs: [7.34418017 6.9190049 ], label: 0, prediction: 0\n",
      "inputs: [ 9.31944183 -0.78910239], label: 1, prediction: 1\n",
      "inputs: [7.91010291 6.25845921], label: 0, prediction: 0\n",
      "inputs: [ 8.69579821 -1.54972074], label: 1, prediction: 1\n",
      "inputs: [8.05410229 3.889101  ], label: 0, prediction: 0\n",
      "inputs: [ 8.85272153 -4.48946332], label: 1, prediction: 1\n",
      "inputs: [6.30734352 6.19804385], label: 0, prediction: 0\n",
      "inputs: [ 8.99735926 -0.50278083], label: 1, prediction: 1\n",
      "inputs: [7.59377053 5.71534917], label: 0, prediction: 0\n",
      "inputs: [7.49428955 5.6879657 ], label: 0, prediction: 0\n",
      "inputs: [ 8.04077043 -1.99149086], label: 1, prediction: 1\n",
      "inputs: [ 8.78010213 -2.99019435], label: 1, prediction: 1\n",
      "inputs: [6.45983967 4.48974477], label: 0, prediction: 0\n",
      "inputs: [6.81206065 6.43727166], label: 0, prediction: 0\n",
      "inputs: [5.82003585 5.81841486], label: 0, prediction: 0\n",
      "inputs: [ 8.62445817 -1.97139391], label: 1, prediction: 1\n",
      "inputs: [ 7.2389148 -1.6485052], label: 1, prediction: 1\n",
      "inputs: [ 8.92166995 -2.24773908], label: 1, prediction: 1\n",
      "inputs: [7.1580133  5.51736197], label: 0, prediction: 0\n",
      "inputs: [ 7.28377816 -2.2203698 ], label: 1, prediction: 1\n",
      "inputs: [8.21844004 0.40935073], label: 1, prediction: 1\n",
      "inputs: [7.31646265 4.73866744], label: 0, prediction: 0\n",
      "inputs: [8.23980464 4.82135076], label: 0, prediction: 0\n",
      "inputs: [ 9.03900258 -2.25166986], label: 1, prediction: 1\n",
      "inputs: [10.20380902 -2.67176306], label: 1, prediction: 1\n",
      "inputs: [9.17833775 3.88240635], label: 0, prediction: 0\n",
      "inputs: [6.82699022 5.02176091], label: 0, prediction: 0\n",
      "inputs: [ 7.31940195 -3.07840373], label: 1, prediction: 1\n",
      "inputs: [6.30956007 6.65752756], label: 0, prediction: 0\n",
      "inputs: [ 6.89759075 -3.77527793], label: 1, prediction: 1\n",
      "inputs: [ 9.21243582 -2.6308427 ], label: 1, prediction: 1\n",
      "inputs: [ 9.00332649 -1.61033125], label: 1, prediction: 1\n",
      "inputs: [8.34883068 5.12323695], label: 0, prediction: 0\n",
      "inputs: [ 8.55219512 -4.02927362], label: 1, prediction: 1\n",
      "inputs: [ 9.31643963 -2.65957865], label: 1, prediction: 1\n",
      "inputs: [ 5.63089807 -2.30634963], label: 1, prediction: 1\n",
      "inputs: [4.28691466 4.74719634], label: 0, prediction: 0\n",
      "inputs: [7.79022649 6.24541112], label: 0, prediction: 0\n",
      "inputs: [ 8.58736967 -1.36308502], label: 1, prediction: 1\n",
      "inputs: [ 7.6199266  -2.86618934], label: 1, prediction: 1\n",
      "inputs: [7.99484388 0.15317931], label: 1, prediction: 1\n",
      "inputs: [ 9.42270381 -2.23870201], label: 1, prediction: 1\n",
      "inputs: [4.88370548 7.53381754], label: 0, prediction: 0\n",
      "inputs: [6.91719355 5.37326044], label: 0, prediction: 0\n",
      "inputs: [7.76603694 4.91670933], label: 0, prediction: 0\n",
      "inputs: [6.41778129 6.01151544], label: 0, prediction: 0\n",
      "inputs: [ 7.6474619  -2.88956948], label: 1, prediction: 1\n",
      "inputs: [7.17042783 5.53306971], label: 0, prediction: 0\n",
      "inputs: [6.21947665 5.49426323], label: 0, prediction: 0\n",
      "inputs: [7.04963059 6.48706336], label: 0, prediction: 0\n",
      "inputs: [6.37023862 6.1107472 ], label: 0, prediction: 0\n",
      "inputs: [ 8.79909519 -1.76472973], label: 1, prediction: 1\n",
      "inputs: [8.34248427 5.71055255], label: 0, prediction: 0\n",
      "inputs: [7.40012473 4.24671343], label: 0, prediction: 0\n",
      "inputs: [ 7.74211056 -1.29752499], label: 1, prediction: 1\n",
      "inputs: [7.03854582 5.49389543], label: 0, prediction: 0\n",
      "inputs: [6.72527354 5.26532906], label: 0, prediction: 0\n",
      "inputs: [7.97908979 5.54762713], label: 0, prediction: 0\n",
      "inputs: [ 8.88630728 -3.01377056], label: 1, prediction: 1\n",
      "inputs: [ 9.37615324 -2.54950061], label: 1, prediction: 1\n",
      "inputs: [ 8.09714451 -1.86590544], label: 1, prediction: 1\n",
      "inputs: [5.75380229 5.99623487], label: 0, prediction: 0\n",
      "inputs: [ 8.38880906 -3.37989634], label: 1, prediction: 1\n",
      "inputs: [6.33042417 7.00193556], label: 0, prediction: 0\n",
      "inputs: [8.11578192 0.48554225], label: 1, prediction: 1\n",
      "inputs: [5.6401034  6.29225237], label: 0, prediction: 0\n",
      "inputs: [ 9.57562428 -1.55373398], label: 1, prediction: 1\n",
      "inputs: [ 7.61821044 -1.49347169], label: 1, prediction: 1\n",
      "inputs: [6.85533089 5.6846086 ], label: 0, prediction: 0\n",
      "inputs: [ 7.80731402 -2.47579231], label: 1, prediction: 1\n",
      "inputs: [ 9.78081797 -2.05839207], label: 1, prediction: 1\n",
      "inputs: [ 7.36491917 -3.63482981], label: 1, prediction: 1\n",
      "inputs: [6.9873368  6.54024279], label: 0, prediction: 0\n",
      "inputs: [ 8.70592539 -2.0056476 ], label: 1, prediction: 1\n",
      "inputs: [6.86110665 5.86509337], label: 0, prediction: 0\n",
      "inputs: [ 9.1608504  -1.82440415], label: 1, prediction: 1\n",
      "inputs: [ 9.29425539 -2.26748807], label: 1, prediction: 1\n",
      "inputs: [ 7.12750458 -1.20706194], label: 1, prediction: 1\n",
      "inputs: [ 9.59109372 -2.01212266], label: 1, prediction: 1\n",
      "inputs: [ 8.97141919 -0.31206654], label: 1, prediction: 1\n",
      "inputs: [8.4023923  5.64466417], label: 0, prediction: 0\n",
      "inputs: [ 9.22515251 -1.47234205], label: 1, prediction: 1\n",
      "inputs: [ 8.25472087 -2.36308458], label: 1, prediction: 1\n",
      "inputs: [ 9.15300401 -2.31411474], label: 1, prediction: 1\n",
      "inputs: [ 7.11638003 -0.62788709], label: 1, prediction: 1\n",
      "inputs: [ 7.77239837 -1.75693008], label: 1, prediction: 1\n",
      "inputs: [8.23375837 6.30927453], label: 0, prediction: 0\n",
      "inputs: [ 7.97342704 -1.10762629], label: 1, prediction: 1\n",
      "inputs: [ 8.27922676 -1.7035442 ], label: 1, prediction: 1\n",
      "inputs: [6.12258294 6.08742725], label: 0, prediction: 0\n",
      "inputs: [6.03839067 5.96600103], label: 0, prediction: 0\n",
      "inputs: [6.26887218 5.23137599], label: 0, prediction: 0\n",
      "inputs: [6.22076403 5.27403268], label: 0, prediction: 0\n",
      "inputs: [6.46331178 3.40261661], label: 0, prediction: 0\n",
      "inputs: [ 9.64327795 -2.50273915], label: 1, prediction: 1\n",
      "inputs: [5.96329096 6.61737558], label: 0, prediction: 0\n",
      "inputs: [7.95642535 5.51547063], label: 0, prediction: 0\n",
      "inputs: [6.06720154 4.67744612], label: 0, prediction: 0\n",
      "inputs: [7.46378174 6.20555817], label: 0, prediction: 0\n",
      "inputs: [ 8.87415983 -2.46813399], label: 1, prediction: 1\n",
      "inputs: [9.01684284 4.84687273], label: 0, prediction: 0\n",
      "inputs: [6.75914585 6.90044999], label: 0, prediction: 0\n",
      "inputs: [ 8.86940876 -1.87099805], label: 1, prediction: 1\n",
      "inputs: [6.858082   7.46652024], label: 0, prediction: 0\n",
      "inputs: [7.78754027 4.65801362], label: 0, prediction: 0\n",
      "inputs: [10.25160971 -1.98734795], label: 1, prediction: 1\n",
      "inputs: [ 7.66062526 -1.80053605], label: 1, prediction: 1\n",
      "inputs: [6.70907721 5.23586308], label: 0, prediction: 0\n",
      "inputs: [7.81633198 6.46781638], label: 0, prediction: 0\n",
      "inputs: [ 8.61909336 -1.23968476], label: 1, prediction: 1\n",
      "inputs: [7.36698489 4.40180968], label: 0, prediction: 0\n",
      "inputs: [10.51609113 -3.18738253], label: 1, prediction: 1\n",
      "inputs: [7.95029979 6.85529113], label: 0, prediction: 0\n",
      "inputs: [ 7.09806341 -2.22855832], label: 1, prediction: 1\n",
      "inputs: [6.43267866 6.70263332], label: 0, prediction: 0\n",
      "inputs: [ 9.43969427 -2.02575863], label: 1, prediction: 1\n"
     ]
    }
   ],
   "source": [
    "for inputs, label in zip(test_inputs, test_labels):\n",
    "    prediction = model.predict(inputs)\n",
    "    print(f'inputs: {inputs}, label: {label}, prediction: {prediction}')\n"
   ],
   "metadata": {
    "collapsed": false,
    "ExecuteTime": {
     "end_time": "2023-10-16T11:43:21.876534254Z",
     "start_time": "2023-10-16T11:43:21.818788956Z"
    }
   },
   "id": "a90284fe5825141b"
  }
 ],
 "metadata": {
  "kernelspec": {
   "display_name": "Python 3",
   "language": "python",
   "name": "python3"
  },
  "language_info": {
   "codemirror_mode": {
    "name": "ipython",
    "version": 2
   },
   "file_extension": ".py",
   "mimetype": "text/x-python",
   "name": "python",
   "nbconvert_exporter": "python",
   "pygments_lexer": "ipython2",
   "version": "2.7.6"
  }
 },
 "nbformat": 4,
 "nbformat_minor": 5
}
