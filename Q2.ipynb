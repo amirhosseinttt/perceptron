{
 "cells": [
  {
   "cell_type": "code",
   "execution_count": 22,
   "id": "initial_id",
   "metadata": {
    "collapsed": true,
    "ExecuteTime": {
     "end_time": "2023-10-20T20:23:54.657692629Z",
     "start_time": "2023-10-20T20:23:54.585253908Z"
    }
   },
   "outputs": [],
   "source": [
    "from Models import Perceptron\n",
    "import pandas as pd\n",
    "import numpy as np\n",
    "import matplotlib.pyplot as plt"
   ]
  },
  {
   "cell_type": "code",
   "execution_count": 23,
   "outputs": [
    {
     "data": {
      "text/plain": "            0         1  y\n0    8.767747  3.995108  0\n1    5.938750  5.387562  0\n2    8.605291 -2.652032  1\n3    7.488204  5.810372  0\n4    7.653939  4.499167  0\n..        ...       ... ..\n995  7.211895  7.904023  0\n996  8.974970 -3.063078  1\n997  7.324660  6.607004  0\n998  6.889562  4.775597  0\n999  9.439694 -2.025759  1\n\n[1000 rows x 3 columns]",
      "text/html": "<div>\n<style scoped>\n    .dataframe tbody tr th:only-of-type {\n        vertical-align: middle;\n    }\n\n    .dataframe tbody tr th {\n        vertical-align: top;\n    }\n\n    .dataframe thead th {\n        text-align: right;\n    }\n</style>\n<table border=\"1\" class=\"dataframe\">\n  <thead>\n    <tr style=\"text-align: right;\">\n      <th></th>\n      <th>0</th>\n      <th>1</th>\n      <th>y</th>\n    </tr>\n  </thead>\n  <tbody>\n    <tr>\n      <th>0</th>\n      <td>8.767747</td>\n      <td>3.995108</td>\n      <td>0</td>\n    </tr>\n    <tr>\n      <th>1</th>\n      <td>5.938750</td>\n      <td>5.387562</td>\n      <td>0</td>\n    </tr>\n    <tr>\n      <th>2</th>\n      <td>8.605291</td>\n      <td>-2.652032</td>\n      <td>1</td>\n    </tr>\n    <tr>\n      <th>3</th>\n      <td>7.488204</td>\n      <td>5.810372</td>\n      <td>0</td>\n    </tr>\n    <tr>\n      <th>4</th>\n      <td>7.653939</td>\n      <td>4.499167</td>\n      <td>0</td>\n    </tr>\n    <tr>\n      <th>...</th>\n      <td>...</td>\n      <td>...</td>\n      <td>...</td>\n    </tr>\n    <tr>\n      <th>995</th>\n      <td>7.211895</td>\n      <td>7.904023</td>\n      <td>0</td>\n    </tr>\n    <tr>\n      <th>996</th>\n      <td>8.974970</td>\n      <td>-3.063078</td>\n      <td>1</td>\n    </tr>\n    <tr>\n      <th>997</th>\n      <td>7.324660</td>\n      <td>6.607004</td>\n      <td>0</td>\n    </tr>\n    <tr>\n      <th>998</th>\n      <td>6.889562</td>\n      <td>4.775597</td>\n      <td>0</td>\n    </tr>\n    <tr>\n      <th>999</th>\n      <td>9.439694</td>\n      <td>-2.025759</td>\n      <td>1</td>\n    </tr>\n  </tbody>\n</table>\n<p>1000 rows × 3 columns</p>\n</div>"
     },
     "execution_count": 23,
     "metadata": {},
     "output_type": "execute_result"
    }
   ],
   "source": [
    "df = pd.read_csv('linear.csv')\n",
    "df"
   ],
   "metadata": {
    "collapsed": false,
    "ExecuteTime": {
     "end_time": "2023-10-20T20:23:54.658897172Z",
     "start_time": "2023-10-20T20:23:54.626983193Z"
    }
   },
   "id": "157786962bde9ed5"
  },
  {
   "cell_type": "code",
   "execution_count": 24,
   "outputs": [
    {
     "data": {
      "text/plain": "(            0         1  y\n 116  9.319374 -1.670430  1\n 662  8.886307 -3.013771  1\n 619  9.170217 -1.764288  1\n 686  7.603606 -1.615828  1\n 798  6.633759  5.858802  0\n ..        ...       ... ..\n 751  7.655963 -3.735272  1\n 173  9.394188 -1.022473  1\n 320  8.581700 -2.927299  1\n 789  8.746552 -0.431250  1\n 675  5.753802  5.996235  0\n \n [800 rows x 3 columns],\n             0         1  y\n 3    7.488204  5.810372  0\n 4    7.653939  4.499167  0\n 7    8.647269 -2.477870  1\n 8    7.821450 -1.686046  1\n 10   8.249359  6.295438  0\n ..        ...       ... ..\n 977  7.019531 -3.021088  1\n 987  8.268783  4.574364  0\n 988  7.950300  6.855291  0\n 990  6.156462  6.109125  0\n 996  8.974970 -3.063078  1\n \n [200 rows x 3 columns])"
     },
     "execution_count": 24,
     "metadata": {},
     "output_type": "execute_result"
    }
   ],
   "source": [
    "train_df = df.sample(frac=0.8)      # also shuffles\n",
    "test_df = df.drop(train_df.index)   # also shuffles\n",
    "\n",
    "\n",
    "train_df, test_df"
   ],
   "metadata": {
    "collapsed": false,
    "ExecuteTime": {
     "end_time": "2023-10-20T20:23:54.719762312Z",
     "start_time": "2023-10-20T20:23:54.632818093Z"
    }
   },
   "id": "55e77a66b6b70584"
  },
  {
   "cell_type": "code",
   "execution_count": 25,
   "outputs": [],
   "source": [
    "train_inputs = train_df[['0', '1']].values\n",
    "train_labels = train_df['y'].values\n",
    "\n",
    "test_inputs = test_df[['0', '1']].values\n",
    "test_labels = test_df['y'].values"
   ],
   "metadata": {
    "collapsed": false,
    "ExecuteTime": {
     "end_time": "2023-10-20T20:23:54.720025439Z",
     "start_time": "2023-10-20T20:23:54.680059038Z"
    }
   },
   "id": "f0773eca18a25d66"
  },
  {
   "cell_type": "code",
   "execution_count": 26,
   "outputs": [
    {
     "name": "stdout",
     "output_type": "stream",
     "text": [
      "(2,)\n"
     ]
    }
   ],
   "source": [
    "model = Perceptron(input_size=2)"
   ],
   "metadata": {
    "collapsed": false,
    "ExecuteTime": {
     "end_time": "2023-10-20T20:23:54.720348087Z",
     "start_time": "2023-10-20T20:23:54.680302698Z"
    }
   },
   "id": "4a73f5dde18a34bd"
  },
  {
   "cell_type": "code",
   "execution_count": 27,
   "outputs": [
    {
     "name": "stdout",
     "output_type": "stream",
     "text": [
      "Epoch: 0, Error: 2\n",
      "Epoch: 1, Error: 0\n",
      "Epoch: 2, Error: 0\n",
      "Epoch: 3, Error: 0\n",
      "Epoch: 4, Error: 0\n",
      "Epoch: 5, Error: 0\n",
      "Epoch: 6, Error: 0\n",
      "Epoch: 7, Error: 0\n",
      "Epoch: 8, Error: 0\n",
      "Epoch: 9, Error: 0\n",
      "[ 12.93714739 -84.15520629]\n"
     ]
    }
   ],
   "source": [
    "model.train(train_inputs, train_labels, epochs=10, learning_rate=10)"
   ],
   "metadata": {
    "collapsed": false,
    "ExecuteTime": {
     "end_time": "2023-10-20T20:23:54.908385496Z",
     "start_time": "2023-10-20T20:23:54.680389331Z"
    }
   },
   "id": "2891394ef3dc6ba1"
  },
  {
   "cell_type": "code",
   "execution_count": 30,
   "outputs": [
    {
     "name": "stdout",
     "output_type": "stream",
     "text": [
      "Error: 0\n"
     ]
    }
   ],
   "source": [
    "predicted = model.predict(test_inputs)\n",
    "print(\"Error:\", np.count_nonzero(predicted - test_labels))"
   ],
   "metadata": {
    "collapsed": false,
    "ExecuteTime": {
     "end_time": "2023-10-20T20:28:43.483329962Z",
     "start_time": "2023-10-20T20:28:43.429961659Z"
    }
   },
   "id": "a90284fe5825141b"
  }
 ],
 "metadata": {
  "kernelspec": {
   "display_name": "Python 3",
   "language": "python",
   "name": "python3"
  },
  "language_info": {
   "codemirror_mode": {
    "name": "ipython",
    "version": 2
   },
   "file_extension": ".py",
   "mimetype": "text/x-python",
   "name": "python",
   "nbconvert_exporter": "python",
   "pygments_lexer": "ipython2",
   "version": "2.7.6"
  }
 },
 "nbformat": 4,
 "nbformat_minor": 5
}
